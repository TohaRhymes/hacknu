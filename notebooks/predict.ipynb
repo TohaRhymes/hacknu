{
 "cells": [
  {
   "cell_type": "code",
   "execution_count": null,
   "metadata": {},
   "outputs": [],
   "source": [
    "import pandas as pd\n",
    "import numpy as np\n",
    "\n",
    "import pickle\n",
    "\n",
    "import time"
   ]
  },
  {
   "cell_type": "code",
   "execution_count": null,
   "metadata": {},
   "outputs": [],
   "source": [
    "def current_milli_time():\n",
    "    return round(time.time() * 1000)\n",
    "\n",
    "names = {\n",
    "    \"imputer\": f\"models/imputer.pickle\",\n",
    "    \"tpot_death\": f\"models/tpot_death.pickle\",\n",
    "    \"tpot_sev\": f\"models/tpot_sev.pickle\",\n",
    "    \"tpot_dead\": f\"models/tpot_dead.pickle\",\n",
    "    \"tpot_alive\": f\"models/tpot_alive.pickle\",\n",
    "}\n",
    "cols = [\n",
    "    \"sex\",\n",
    "    \"ill_to_hosp\",\n",
    "    \"age\",\n",
    "    \"temp\",\n",
    "    \"weakness\",\n",
    "    \"smell_taste_loss\",\n",
    "    \"chd\",\n",
    "    \"aks\",\n",
    "    \"cvd\",\n",
    "    \"imv_days\",\n",
    "    \"pcr_1\",\n",
    "    \"leuk_1\",\n",
    "    \"neut_1\",\n",
    "    \"l_1\",\n",
    "    \"ldh_1\",\n",
    "    \"crp_1\",\n",
    "    \"fer_1\",\n",
    "    \"d_dym_1\",\n",
    "    \"il6_1\",\n",
    "    \"creat_1\",\n",
    "    \"glu_1\",\n",
    "    \"pct\",\n",
    "    \"news_1\",\n",
    "    \"resp_fail_5\",\n",
    "]\n",
    "filename = \"data2.txt\"\n",
    "\n",
    "\n",
    "\n",
    "imputer = pickle.load(open(names[\"imputer\"], \"rb\"))\n",
    "tpot_death = pickle.load(open(names[\"tpot_death\"], \"rb\"))\n",
    "tpot_sev = pickle.load(open(names[\"tpot_sev\"], \"rb\"))\n",
    "tpot_dead = pickle.load(open(names[\"tpot_dead\"], \"rb\"))\n",
    "tpot_alive = pickle.load(open(names[\"tpot_alive\"], \"rb\"))\n",
    "\n",
    "data = pd.read_csv(filename, names=cols)\n",
    "data = pd.DataFrame(imputer.transform(data), columns=data.columns, index=data.index)\n",
    "death_rate = tpot_death.predict_proba(data)[0][1]\n",
    "death = tpot_death.predict(data)[0]\n",
    "sev_rate = max(tpot_sev.predict_proba(data)[0])\n",
    "sev = tpot_sev.predict(data)[0]\n",
    "days = np.nan\n",
    "if death == 0:\n",
    "    days = tpot_alive.predict(data)[0]\n",
    "else:\n",
    "    days = tpot_death.predict(data)[0]\n",
    "    \n",
    "answer = np.array([[death_rate, death, sev_rate, sev, days]])\n",
    "np.savetxt(f\"answer{current_milli_time()}.csv\", answer, delimiter=\",\")"
   ]
  },
  {
   "cell_type": "code",
   "execution_count": null,
   "metadata": {},
   "outputs": [],
   "source": [
    "data = [death_rate, death, sev_rate, sev, days]\n",
    "names = ['Вероятность смерти', 'умрет?', 'вероятность тяжести', 'тяжесть', 'предполагаемые дни']\n",
    "if data[0] > 0.5:\n",
    "    print(f\"It is most likely that patient will die.\")\n",
    "else:\n",
    "    print(f\"It is most likely that patient will survive.\")\n",
    "print(f\"Probability of death = {data[0]*100}%\")\n",
    "if data[3]==1:\n",
    "    print(f\"With probability of {data[2]*100}% severity will be light.\")\n",
    "elif data[3]==2:\n",
    "    print(f\"With probability of {data[2]*100}% severity will be middle.\")\n",
    "else:\n",
    "    print(f\"With probability of {data[2]*100}% severity will be hard.\")\n",
    "print(f'Approximate time until discharge = {data[4]}.')"
   ]
  }
 ],
 "metadata": {
  "kernelspec": {
   "display_name": "Python 3",
   "language": "python",
   "name": "python3"
  },
  "language_info": {
   "codemirror_mode": {
    "name": "ipython",
    "version": 3
   },
   "file_extension": ".py",
   "mimetype": "text/x-python",
   "name": "python",
   "nbconvert_exporter": "python",
   "pygments_lexer": "ipython3",
   "version": "3.7.7"
  }
 },
 "nbformat": 4,
 "nbformat_minor": 4
}
